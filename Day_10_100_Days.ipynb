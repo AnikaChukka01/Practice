{
  "nbformat": 4,
  "nbformat_minor": 0,
  "metadata": {
    "colab": {
      "provenance": [],
      "authorship_tag": "ABX9TyOXMMnoYHKpF0stvEb7aKJX",
      "include_colab_link": true
    },
    "kernelspec": {
      "name": "python3",
      "display_name": "Python 3"
    },
    "language_info": {
      "name": "python"
    }
  },
  "cells": [
    {
      "cell_type": "markdown",
      "metadata": {
        "id": "view-in-github",
        "colab_type": "text"
      },
      "source": [
        "<a href=\"https://colab.research.google.com/github/AnikaChukka01/Practice/blob/main/Day_10_100_Days.ipynb\" target=\"_parent\"><img src=\"https://colab.research.google.com/assets/colab-badge.svg\" alt=\"Open In Colab\"/></a>"
      ]
    },
    {
      "cell_type": "markdown",
      "source": [
        "FUNCTIONS"
      ],
      "metadata": {
        "id": "aR4T62Lyis3V"
      }
    },
    {
      "cell_type": "code",
      "execution_count": null,
      "metadata": {
        "colab": {
          "base_uri": "https://localhost:8080/"
        },
        "id": "yMDkzA8XfEwD",
        "outputId": "d2c42d5b-1ba7-4baf-eb5d-23a76006c27b"
      },
      "outputs": [
        {
          "output_type": "execute_result",
          "data": {
            "text/plain": [
              "('Anika Loves travelling', 'Anika Loves Reading Books')"
            ]
          },
          "metadata": {},
          "execution_count": 1
        }
      ],
      "source": [
        "def Anika():\n",
        "  x=\"Anika Loves travelling\"\n",
        "  y=\"Anika Loves Reading Books\"\n",
        "  return x,y\n",
        "Anika()"
      ]
    },
    {
      "cell_type": "code",
      "source": [
        "def nam(f_nam,l_nam,pip):\n",
        "  print(f_nam.title())\n",
        "  print(l_nam.title())\n",
        "  print(pip.title())\n",
        "  return f_nam,l_nam,pip\n",
        "  print(\"a\")\n",
        "nam(\"anika\", \"Chukka\",\"LoOp\")"
      ],
      "metadata": {
        "colab": {
          "base_uri": "https://localhost:8080/"
        },
        "id": "JGN_fzsppRQJ",
        "outputId": "2d3c3337-8077-4695-f8f1-749c0cb893bb"
      },
      "execution_count": null,
      "outputs": [
        {
          "output_type": "stream",
          "name": "stdout",
          "text": [
            "Anika\n",
            "Chukka\n",
            "Loop\n"
          ]
        },
        {
          "output_type": "execute_result",
          "data": {
            "text/plain": [
              "('anika', 'Chukka', 'LoOp')"
            ]
          },
          "metadata": {},
          "execution_count": 6
        }
      ]
    },
    {
      "cell_type": "code",
      "source": [
        "def add(n1, n2):\n",
        "  return n1 + n2\n",
        "def subtract(n1, n2):\n",
        "  return n1 - n2\n",
        "def multiply(n1, n2):\n",
        "  return n1 * n2\n",
        "def divide(n1, n2):\n",
        "  return n1 / n2\n",
        "print(add(2, multiply(5, divide(8, 4))))"
      ],
      "metadata": {
        "colab": {
          "base_uri": "https://localhost:8080/"
        },
        "id": "xYyjiNV6sfoY",
        "outputId": "cf38058a-b2cd-48ff-f7cd-305335a3d4a0"
      },
      "execution_count": null,
      "outputs": [
        {
          "output_type": "stream",
          "name": "stdout",
          "text": [
            "12.0\n"
          ]
        }
      ]
    },
    {
      "cell_type": "code",
      "source": [
        "def outer_function(a, b):\n",
        "    def inner_function(c, d):\n",
        "        return c + d\n",
        "    return inner_function(a, b)\n",
        "result = outer_function(5, 10)\n",
        "print(result)"
      ],
      "metadata": {
        "colab": {
          "base_uri": "https://localhost:8080/"
        },
        "id": "iXmsJAA3-WVY",
        "outputId": "5dd954b8-a1e3-4ff6-b2f4-cf5bfdfd3c78"
      },
      "execution_count": null,
      "outputs": [
        {
          "output_type": "stream",
          "name": "stdout",
          "text": [
            "15\n"
          ]
        }
      ]
    },
    {
      "cell_type": "code",
      "source": [
        "# Caluclator using Functions\n",
        "def Caluclator(a,b,symbol):\n",
        "    if symbol==\"+\":\n",
        "      return a+b\n",
        "    elif symbol==\"-\":\n",
        "      return a-b\n",
        "    elif symbol==\"*\":\n",
        "      return a*b\n",
        "    elif symbol==\"/\":\n",
        "      return a/b\n",
        "while True:\n",
        "  a=int(input(\"Enter 1st number: \"))\n",
        "  print(\"\"\"+\n",
        "  -\n",
        "  *\n",
        "  /\n",
        "  \"\"\"\n",
        "  )\n",
        "  symbol=input(\"Pick an operation: \")\n",
        "  b=int(input(\"Enter 2nd number: \"))\n",
        "  x=Caluclator(a,b,symbol)\n",
        "  print(x)\n",
        "  while True:\n",
        "    o=input((\"type 'y' if you want to continue or 's' to stop or 'n' to start a new caluclation\"))\n",
        "    if o=='y':\n",
        "      p=int(input(\"What's the next number?\"))\n",
        "      s=input(\"Pick an operation: \")\n",
        "      Caluclator(x,p,s)\n",
        "      print(Caluclator(x,p,s))\n",
        "    elif o=='n':\n",
        "      break\n",
        "    elif o == 's':  # Stop the calculator\n",
        "      print(\"Goodbye!\")\n",
        "            # Break out of both loops\n",
        "      exit_flag = True\n",
        "      break\n",
        "\n",
        "    # If stop was selected, exit the outer loop\n",
        "  if 'exit_flag' in locals() and exit_flag:\n",
        "      break"
      ],
      "metadata": {
        "id": "apqkgSX1_2xZ",
        "colab": {
          "base_uri": "https://localhost:8080/"
        },
        "outputId": "0c49b9cc-38d9-45aa-e6fb-e4a2e3c156f8"
      },
      "execution_count": 1,
      "outputs": [
        {
          "output_type": "stream",
          "name": "stdout",
          "text": [
            "Enter 1st number: 4\n",
            "+\n",
            "  -\n",
            "  *\n",
            "  /\n",
            "  \n",
            "Pick an operation: +\n",
            "Enter 2nd number: 5\n",
            "9\n",
            "type 'y' if you want to continue or 's' to stop or 'n' to start a new caluclations\n",
            "Goodbye!\n"
          ]
        }
      ]
    }
  ]
}