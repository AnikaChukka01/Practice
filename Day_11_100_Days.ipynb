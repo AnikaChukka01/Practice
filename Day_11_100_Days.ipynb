{
  "nbformat": 4,
  "nbformat_minor": 0,
  "metadata": {
    "colab": {
      "provenance": [],
      "authorship_tag": "ABX9TyMbtgi5WVmrNxnX+rJtPdmn",
      "include_colab_link": true
    },
    "kernelspec": {
      "name": "python3",
      "display_name": "Python 3"
    },
    "language_info": {
      "name": "python"
    }
  },
  "cells": [
    {
      "cell_type": "markdown",
      "metadata": {
        "id": "view-in-github",
        "colab_type": "text"
      },
      "source": [
        "<a href=\"https://colab.research.google.com/github/AnikaChukka01/Practice/blob/main/Day_11_100_Days.ipynb\" target=\"_parent\"><img src=\"https://colab.research.google.com/assets/colab-badge.svg\" alt=\"Open In Colab\"/></a>"
      ]
    },
    {
      "cell_type": "code",
      "execution_count": 1,
      "metadata": {
        "colab": {
          "base_uri": "https://localhost:8080/"
        },
        "id": "Q99wU13Xp_Te",
        "outputId": "27d4744b-bcc7-4a57-aba1-df6f2f77eb03"
      },
      "outputs": [
        {
          "output_type": "stream",
          "name": "stdout",
          "text": [
            "\n",
            ".------.            _     _            _    _            _    \n",
            "|A_  _ |.          | |   | |          | |  (_)          | |   \n",
            "|( \\/ ).-----.     | |__ | | __ _  ___| | ___  __ _  ___| | __\n",
            "| \\  /|K /\\  |     | '_ \\| |/ _` |/ __| |/ / |/ _` |/ __| |/ /\n",
            "|  \\/ | /  \\ |     | |_) | | (_| | (__|   <| | (_| | (__|   < \n",
            "`-----| \\  / |     |_.__/|_|\\__,_|\\___|_|\\_\\ |\\__,_|\\___|_|\\_\\\\\n",
            "      |  \\/ K|                            _/ |                \n",
            "      `------'                           |__/           \n",
            "\n",
            "Your cards: [4, 7], Your Score: 11\n",
            "Computer's first card: 10\n",
            "Type 'y' to get another card, 'n' to pass: y\n",
            "Your cards: [4, 7, 10], Your Score: 21\n",
            "Type 'y' to get another card, 'n' to pass: n\n",
            "Your final cards: [4, 7, 10], Your Final Score: 21\n",
            "Computer's final cards: [10, 10], Computer's Final Score: 20\n",
            "You win!\n"
          ]
        }
      ],
      "source": [
        "logo = r\"\"\"\n",
        ".------.            _     _            _    _            _\n",
        "|A_  _ |.          | |   | |          | |  (_)          | |\n",
        "|( \\/ ).-----.     | |__ | | __ _  ___| | ___  __ _  ___| | __\n",
        "| \\  /|K /\\  |     | '_ \\| |/ _` |/ __| |/ / |/ _` |/ __| |/ /\n",
        "|  \\/ | /  \\ |     | |_) | | (_| | (__|   <| | (_| | (__|   <\n",
        "`-----| \\  / |     |_.__/|_|\\__,_|\\___|_|\\_\\ |\\__,_|\\___|_|\\_\\\\\n",
        "      |  \\/ K|                            _/ |\n",
        "      `------'                           |__/\n",
        "\"\"\"\n",
        "import random\n",
        "print(logo)\n",
        "cards = [11, 2, 3, 4, 5, 6, 7, 8, 9, 10, 10, 10, 10]\n",
        "my_cards = random.sample(cards, 2)\n",
        "my_score = sum(my_cards)\n",
        "Comp_cards = random.sample(cards, 2)\n",
        "Comp_score = sum(Comp_cards)\n",
        "\n",
        "print(f\"Your cards: {my_cards}, Your Score: {my_score}\")\n",
        "print(f\"Computer's first card: {Comp_cards[0]}\")\n",
        "\n",
        "if my_score == 21:\n",
        "    print(\"Blackjack! You win!\")\n",
        "    exit()\n",
        "elif Comp_score == 21:\n",
        "    print(\"Computer got Blackjack! You lose!\")\n",
        "    exit()\n",
        "\n",
        "while True:\n",
        "    x = input(\"Type 'y' to get another card, 'n' to pass: \")\n",
        "    if x == \"y\":\n",
        "        new = random.choice(cards)\n",
        "        my_cards.append(new)\n",
        "        my_score = sum(my_cards)\n",
        "        while 11 in my_cards and my_score > 21:\n",
        "            my_cards[my_cards.index(11)] = 1\n",
        "            my_score = sum(my_cards)\n",
        "        print(f\"Your cards: {my_cards}, Your Score: {my_score}\")\n",
        "        if my_score > 21:\n",
        "            print(\"You went over 21. You lose!\")\n",
        "            exit()\n",
        "    elif x == \"n\":\n",
        "        break\n",
        "\n",
        "while Comp_score < 17:\n",
        "    new_card = random.choice(cards)\n",
        "    Comp_cards.append(new_card)\n",
        "    Comp_score = sum(Comp_cards)\n",
        "    while 11 in Comp_cards and Comp_score > 21:\n",
        "        Comp_cards[Comp_cards.index(11)] = 1\n",
        "        Comp_score = sum(Comp_cards)\n",
        "\n",
        "print(f\"Your final cards: {my_cards}, Your Final Score: {my_score}\")\n",
        "print(f\"Computer's final cards: {Comp_cards}, Computer's Final Score: {Comp_score}\")\n",
        "\n",
        "if my_score > 21:\n",
        "    print(\"You went over 21. You lose!\")\n",
        "    exit()\n",
        "elif Comp_score > 21:\n",
        "    print(\"Computer went over 21. You win!\")\n",
        "elif my_score > Comp_score:\n",
        "    print(\"You win!\")\n",
        "elif my_score < Comp_score:\n",
        "    print(\"You lose!\")\n",
        "else:\n",
        "    print(\"It's a draw!\")"
      ]
    }
  ]
}